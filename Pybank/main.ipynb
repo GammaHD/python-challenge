{
 "cells": [
  {
   "cell_type": "code",
   "execution_count": 76,
   "metadata": {},
   "outputs": [
    {
     "name": "stdout",
     "output_type": "stream",
     "text": [
      "Financial Analysis\n",
      "-------------------------\n",
      "Total Months: 86\n",
      "Total : $38382578\n",
      "Average Change: $446309.05\n",
      "Greatest Increase: Feb-2012 ($1926159)\n",
      "Greatest Decrease: Sep-2013 ($-2196167)\n"
     ]
    }
   ],
   "source": [
    "from pathlib import Path\n",
    "import csv\n",
    "\n",
    "#path to collect data\n",
    "csvpath = Path('budget_data.csv')\n",
    "csvpath_output = ('budget_data.csv')\n",
    "\n",
    "# Variables\n",
    "Total_Months = 0\n",
    "Total_PnL = 0\n",
    "\n",
    "prev_Pnl_loss = 0\n",
    "Pnl_Change = 0\n",
    "greatest_increase = [\"\", 0]\n",
    "greatest_decrease = [\"\", 9999999]\n",
    "\n",
    "Pnl_Changes = []\n",
    "\n",
    "# Read Files\n",
    "with open(csvpath) as csvfile:\n",
    "    reader = csv.DictReader(csvfile)\n",
    "\n",
    "    #Getting  total months and profit losses \n",
    "    for row in reader:\n",
    "\n",
    "        \n",
    "        Total_Months = Total_Months + 1\n",
    "        Total_PnL = Total_PnL + int(row[\"Profit/Losses\"])\n",
    "        \n",
    "\n",
    "        # Keep track of changes\n",
    "        Pnl_Change = int(row[\"Profit/Losses\"]) - prev_Pnl_loss\n",
    "        \n",
    "\n",
    "        # Reset the value of prev_Pnl_loss\n",
    "        prev_Pnl_loss = int(row[\"Profit/Losses\"])\n",
    "        \n",
    "\n",
    "        # Getting the greatest increase and decrease\n",
    "        if (Pnl_Change > greatest_increase[1]):\n",
    "            greatest_increase[1] = Pnl_Change\n",
    "            greatest_increase[0] = row[\"Date\"]\n",
    "\n",
    "        if (Pnl_Change < greatest_decrease[1]):\n",
    "            greatest_decrease[1] = Pnl_Change\n",
    "            greatest_decrease[0] = row[\"Date\"]\n",
    "\n",
    "        # Adding to the profit_Pnl_changes list\n",
    "        Pnl_Changes.append(int(row[\"Profit/Losses\"]))\n",
    "\n",
    "    # Average\n",
    "    profit_loss_avg = sum(Pnl_Changes) / len(Pnl_Changes)\n",
    "    \n",
    "    # Show Output\n",
    "    print(\"Financial Analysis\")\n",
    "    print(\"-------------------------\")\n",
    "    print(\"Total Months: \" + str(Total_Months))\n",
    "    print(\"Total : \" + \"$\" + str(Total_PnL))\n",
    "    print(\"Average Change: \" + \"$\" + str(round(sum(Pnl_Changes) / len(Pnl_Changes),2)))\n",
    "    print(\"Greatest Increase: \" + str(greatest_increase[0]) + \" ($\" +  str(greatest_increase[1]) + \")\") \n",
    "    print(\"Greatest Decrease: \" + str(greatest_decrease[0]) + \" ($\" +  str(greatest_decrease[1]) + \")\")"
   ]
  },
  {
   "cell_type": "code",
   "execution_count": 75,
   "metadata": {},
   "outputs": [],
   "source": [
    "with open('budget_data.txt', \"w\") as txt_file:\n",
    "    txt_file.write(\"Total Months: \" + str(total_months))\n",
    "    txt_file.write(\"\\n\")\n",
    "    txt_file.write(\"Total: \" + \"$\" + str(total_profit_loss))\n",
    "    txt_file.write(\"\\n\")\n",
    "    txt_file.write(\"Average Change: \" + \"$\" + str(round(sum(profit_loss_changes) / len(profit_loss_changes),2)))\n",
    "    txt_file.write(\"\\n\")\n",
    "    txt_file.write(\"Greatest Increase: \" + str(greatest_increase[0]) + \" ($\" + str(greatest_increase[1]) + \")\") \n",
    "    txt_file.write(\"\\n\")\n",
    "    txt_file.write(\"Greatest Decrease: \" + str(greatest_decrease[0]) + \" ($\" + str(greatest_decrease[1]) + \")\")"
   ]
  }
 ],
 "metadata": {
  "kernelspec": {
   "display_name": "Python 3.10.7 64-bit",
   "language": "python",
   "name": "python3"
  },
  "language_info": {
   "codemirror_mode": {
    "name": "ipython",
    "version": 3
   },
   "file_extension": ".py",
   "mimetype": "text/x-python",
   "name": "python",
   "nbconvert_exporter": "python",
   "pygments_lexer": "ipython3",
   "version": "3.10.7"
  },
  "orig_nbformat": 4,
  "vscode": {
   "interpreter": {
    "hash": "26de051ba29f2982a8de78e945f0abaf191376122a1563185a90213a26c5da77"
   }
  }
 },
 "nbformat": 4,
 "nbformat_minor": 2
}
